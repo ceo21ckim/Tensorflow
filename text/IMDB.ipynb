{
 "cells": [
  {
   "cell_type": "code",
   "execution_count": 64,
   "metadata": {},
   "outputs": [],
   "source": [
    "import pandas as pd\n",
    "import numpy as np\n",
    "from tensorflow import keras"
   ]
  },
  {
   "cell_type": "markdown",
   "metadata": {},
   "source": [
    "- 영화 리뷰 텍스트 데이터 , 가장 많이 사용되는 10000개 데이터 추출"
   ]
  },
  {
   "cell_type": "code",
   "execution_count": 65,
   "metadata": {},
   "outputs": [],
   "source": [
    "imdb = keras.datasets.imdb\n",
    "\n",
    "(train_data, train_labels), (test_data, test_labels) = imdb.load_data(num_words=10000)"
   ]
  },
  {
   "cell_type": "code",
   "execution_count": 66,
   "metadata": {},
   "outputs": [
    {
     "data": {
      "text/plain": [
       "(218, 189)"
      ]
     },
     "execution_count": 66,
     "metadata": {},
     "output_type": "execute_result"
    }
   ],
   "source": [
    "len(train_data[0]), len(train_data[1])"
   ]
  },
  {
   "cell_type": "code",
   "execution_count": 67,
   "metadata": {},
   "outputs": [],
   "source": [
    "word_index = imdb.get_word_index()\n",
    "\n",
    "word_index['<PAD>'] = 0\n",
    "word_index['<START>'] = 1\n",
    "word_index['UNK'] = 2 # unknown\n",
    "word_index['<UNUSED>'] = 3\n",
    "\n",
    "reverse_word_index = dict([(value, key) for (key, value) in word_index.items()])\n",
    "\n",
    "def decode_review(text):\n",
    "    return ' '.join([reverse_word_index.get(i,'?') for i in text])"
   ]
  },
  {
   "cell_type": "markdown",
   "metadata": {},
   "source": [
    "- padding을 사용하여 변수의 길이를 맞춰준다."
   ]
  },
  {
   "cell_type": "code",
   "execution_count": 68,
   "metadata": {},
   "outputs": [],
   "source": [
    "train_data = keras.preprocessing.sequence.pad_sequences(train_data, \n",
    "                                                      value = word_index['<PAD>'],\n",
    "                                                      padding = 'post',\n",
    "                                                      maxlen = 256)\n",
    "test_data = keras.preprocessing.sequence.pad_sequences(test_data, \n",
    "                                                      value = word_index['<PAD>'],\n",
    "                                                      padding = 'post',\n",
    "                                                      maxlen = 256)\n"
   ]
  },
  {
   "cell_type": "code",
   "execution_count": 69,
   "metadata": {},
   "outputs": [
    {
     "name": "stdout",
     "output_type": "stream",
     "text": [
      "Model: \"sequential_4\"\n",
      "_________________________________________________________________\n",
      "Layer (type)                 Output Shape              Param #   \n",
      "=================================================================\n",
      "embedding_6 (Embedding)      (None, None, 16)          160000    \n",
      "_________________________________________________________________\n",
      "global_average_pooling1d_6 ( (None, 16)                0         \n",
      "_________________________________________________________________\n",
      "dense_10 (Dense)             (None, 16)                272       \n",
      "_________________________________________________________________\n",
      "dense_11 (Dense)             (None, 1)                 17        \n",
      "=================================================================\n",
      "Total params: 160,289\n",
      "Trainable params: 160,289\n",
      "Non-trainable params: 0\n",
      "_________________________________________________________________\n"
     ]
    }
   ],
   "source": [
    "vocab_size = 10000\n",
    "\n",
    "model = keras.Sequential([\n",
    "    keras.layers.Embedding(vocab_size, 16),\n",
    "    keras.layers.GlobalAveragePooling1D(),\n",
    "    keras.layers.Dense(16, activation = 'relu'),\n",
    "    keras.layers.Dense(1, activation = 'sigmoid')\n",
    "])\n",
    "model.summary()"
   ]
  },
  {
   "cell_type": "code",
   "execution_count": 70,
   "metadata": {},
   "outputs": [],
   "source": [
    "model.compile(optimizer='adam',\n",
    "             loss = 'binary_crossentropy',\n",
    "             metrics = ['accuracy'])"
   ]
  },
  {
   "cell_type": "code",
   "execution_count": 71,
   "metadata": {},
   "outputs": [],
   "source": [
    "x_val = train_data[:10000]\n",
    "partial_x_train = train_data[10000:]\n",
    "\n",
    "y_val = train_labels[:10000]\n",
    "partial_y_train = train_labels[10000:]"
   ]
  },
  {
   "cell_type": "code",
   "execution_count": 72,
   "metadata": {},
   "outputs": [
    {
     "name": "stdout",
     "output_type": "stream",
     "text": [
      "Epoch 1/40\n",
      "30/30 [==============================] - 1s 22ms/step - loss: 0.6926 - accuracy: 0.5428 - val_loss: 0.6899 - val_accuracy: 0.6649\n",
      "Epoch 2/40\n",
      "30/30 [==============================] - 0s 17ms/step - loss: 0.6882 - accuracy: 0.6859 - val_loss: 0.6826 - val_accuracy: 0.7321\n",
      "Epoch 3/40\n",
      "30/30 [==============================] - 0s 16ms/step - loss: 0.6786 - accuracy: 0.7094 - val_loss: 0.6685 - val_accuracy: 0.7469\n",
      "Epoch 4/40\n",
      "30/30 [==============================] - 0s 16ms/step - loss: 0.6611 - accuracy: 0.7659 - val_loss: 0.6451 - val_accuracy: 0.7532\n",
      "Epoch 5/40\n",
      "30/30 [==============================] - 0s 16ms/step - loss: 0.6322 - accuracy: 0.7794 - val_loss: 0.6126 - val_accuracy: 0.7856\n",
      "Epoch 6/40\n",
      "30/30 [==============================] - 1s 20ms/step - loss: 0.5934 - accuracy: 0.8052 - val_loss: 0.5732 - val_accuracy: 0.8009\n",
      "Epoch 7/40\n",
      "30/30 [==============================] - 0s 16ms/step - loss: 0.5497 - accuracy: 0.8261 - val_loss: 0.5301 - val_accuracy: 0.8143\n",
      "Epoch 8/40\n",
      "30/30 [==============================] - 1s 18ms/step - loss: 0.4997 - accuracy: 0.8476 - val_loss: 0.4883 - val_accuracy: 0.8286\n",
      "Epoch 9/40\n",
      "30/30 [==============================] - 0s 17ms/step - loss: 0.4545 - accuracy: 0.8589 - val_loss: 0.4504 - val_accuracy: 0.8412\n",
      "Epoch 10/40\n",
      "30/30 [==============================] - 0s 16ms/step - loss: 0.4150 - accuracy: 0.8699 - val_loss: 0.4184 - val_accuracy: 0.8486\n",
      "Epoch 11/40\n",
      "30/30 [==============================] - 0s 16ms/step - loss: 0.3767 - accuracy: 0.8807 - val_loss: 0.3924 - val_accuracy: 0.8551\n",
      "Epoch 12/40\n",
      "30/30 [==============================] - 0s 17ms/step - loss: 0.3507 - accuracy: 0.8814 - val_loss: 0.3706 - val_accuracy: 0.8636\n",
      "Epoch 13/40\n",
      "30/30 [==============================] - 1s 25ms/step - loss: 0.3245 - accuracy: 0.8945 - val_loss: 0.3537 - val_accuracy: 0.8676\n",
      "Epoch 14/40\n",
      "30/30 [==============================] - 1s 26ms/step - loss: 0.3036 - accuracy: 0.8983 - val_loss: 0.3395 - val_accuracy: 0.8717\n",
      "Epoch 15/40\n",
      "30/30 [==============================] - 1s 26ms/step - loss: 0.2832 - accuracy: 0.9029 - val_loss: 0.3284 - val_accuracy: 0.8740\n",
      "Epoch 16/40\n",
      "30/30 [==============================] - 1s 27ms/step - loss: 0.2638 - accuracy: 0.9089 - val_loss: 0.3192 - val_accuracy: 0.8765\n",
      "Epoch 17/40\n",
      "30/30 [==============================] - 1s 27ms/step - loss: 0.2572 - accuracy: 0.9121 - val_loss: 0.3125 - val_accuracy: 0.8761\n",
      "Epoch 18/40\n",
      "30/30 [==============================] - 1s 29ms/step - loss: 0.2389 - accuracy: 0.9191 - val_loss: 0.3067 - val_accuracy: 0.8774\n",
      "Epoch 19/40\n",
      "30/30 [==============================] - 1s 28ms/step - loss: 0.2289 - accuracy: 0.9226 - val_loss: 0.3008 - val_accuracy: 0.8801\n",
      "Epoch 20/40\n",
      "30/30 [==============================] - 1s 29ms/step - loss: 0.2173 - accuracy: 0.9251 - val_loss: 0.2984 - val_accuracy: 0.8815\n",
      "Epoch 21/40\n",
      "30/30 [==============================] - 1s 22ms/step - loss: 0.2087 - accuracy: 0.9270 - val_loss: 0.2936 - val_accuracy: 0.8816\n",
      "Epoch 22/40\n",
      "30/30 [==============================] - 0s 16ms/step - loss: 0.1981 - accuracy: 0.9352 - val_loss: 0.2908 - val_accuracy: 0.8834\n",
      "Epoch 23/40\n",
      "30/30 [==============================] - 0s 16ms/step - loss: 0.1849 - accuracy: 0.9368 - val_loss: 0.2885 - val_accuracy: 0.8844\n",
      "Epoch 24/40\n",
      "30/30 [==============================] - 0s 16ms/step - loss: 0.1805 - accuracy: 0.9413 - val_loss: 0.2868 - val_accuracy: 0.8852\n",
      "Epoch 25/40\n",
      "30/30 [==============================] - 1s 18ms/step - loss: 0.1740 - accuracy: 0.9452 - val_loss: 0.2856 - val_accuracy: 0.8847\n",
      "Epoch 26/40\n",
      "30/30 [==============================] - 1s 22ms/step - loss: 0.1658 - accuracy: 0.9479 - val_loss: 0.2851 - val_accuracy: 0.8848\n",
      "Epoch 27/40\n",
      "30/30 [==============================] - 0s 16ms/step - loss: 0.1607 - accuracy: 0.9491 - val_loss: 0.2851 - val_accuracy: 0.8859\n",
      "Epoch 28/40\n",
      "30/30 [==============================] - 0s 17ms/step - loss: 0.1549 - accuracy: 0.9523 - val_loss: 0.2855 - val_accuracy: 0.8858\n",
      "Epoch 29/40\n",
      "30/30 [==============================] - 0s 16ms/step - loss: 0.1467 - accuracy: 0.9565 - val_loss: 0.2861 - val_accuracy: 0.8849\n",
      "Epoch 30/40\n",
      "30/30 [==============================] - 0s 16ms/step - loss: 0.1406 - accuracy: 0.9564 - val_loss: 0.2869 - val_accuracy: 0.8852\n",
      "Epoch 31/40\n",
      "30/30 [==============================] - 0s 16ms/step - loss: 0.1372 - accuracy: 0.9592 - val_loss: 0.2885 - val_accuracy: 0.8844\n",
      "Epoch 32/40\n",
      "30/30 [==============================] - 1s 18ms/step - loss: 0.1286 - accuracy: 0.9633 - val_loss: 0.2890 - val_accuracy: 0.8857\n",
      "Epoch 33/40\n",
      "30/30 [==============================] - 1s 21ms/step - loss: 0.1269 - accuracy: 0.9628 - val_loss: 0.2904 - val_accuracy: 0.8861\n",
      "Epoch 34/40\n",
      "30/30 [==============================] - 1s 32ms/step - loss: 0.1209 - accuracy: 0.9661 - val_loss: 0.2921 - val_accuracy: 0.8850\n",
      "Epoch 35/40\n",
      "30/30 [==============================] - 1s 32ms/step - loss: 0.1154 - accuracy: 0.9691 - val_loss: 0.2939 - val_accuracy: 0.8856\n",
      "Epoch 36/40\n",
      "30/30 [==============================] - 1s 36ms/step - loss: 0.1120 - accuracy: 0.9688 - val_loss: 0.2964 - val_accuracy: 0.8856\n",
      "Epoch 37/40\n",
      "30/30 [==============================] - 1s 30ms/step - loss: 0.1026 - accuracy: 0.9729 - val_loss: 0.2988 - val_accuracy: 0.8846\n",
      "Epoch 38/40\n",
      "30/30 [==============================] - 1s 25ms/step - loss: 0.1057 - accuracy: 0.9712 - val_loss: 0.3010 - val_accuracy: 0.8836\n",
      "Epoch 39/40\n",
      "30/30 [==============================] - 1s 26ms/step - loss: 0.0987 - accuracy: 0.9749 - val_loss: 0.3036 - val_accuracy: 0.8834\n",
      "Epoch 40/40\n",
      "30/30 [==============================] - 1s 27ms/step - loss: 0.0955 - accuracy: 0.9752 - val_loss: 0.3075 - val_accuracy: 0.8821\n"
     ]
    }
   ],
   "source": [
    "history = model.fit(partial_x_train,\n",
    "         partial_y_train,\n",
    "         epochs = 40,\n",
    "         batch_size = 512,\n",
    "         validation_data=(x_val, y_val),\n",
    "         verbose = 1)"
   ]
  },
  {
   "cell_type": "code",
   "execution_count": 73,
   "metadata": {},
   "outputs": [
    {
     "name": "stdout",
     "output_type": "stream",
     "text": [
      "782/782 - 1s - loss: 0.3270 - accuracy: 0.8728\n"
     ]
    },
    {
     "data": {
      "text/plain": [
       "[0.32703697681427, 0.8727999925613403]"
      ]
     },
     "execution_count": 73,
     "metadata": {},
     "output_type": "execute_result"
    }
   ],
   "source": [
    "result = model.evaluate(test_data, test_labels, verbose = 2)\n",
    "result"
   ]
  },
  {
   "cell_type": "code",
   "execution_count": 74,
   "metadata": {},
   "outputs": [
    {
     "data": {
      "text/plain": [
       "dict_keys(['loss', 'accuracy', 'val_loss', 'val_accuracy'])"
      ]
     },
     "execution_count": 74,
     "metadata": {},
     "output_type": "execute_result"
    }
   ],
   "source": [
    "history_dict = history.history\n",
    "history_dict.keys()"
   ]
  },
  {
   "cell_type": "code",
   "execution_count": 75,
   "metadata": {},
   "outputs": [],
   "source": [
    "import matplotlib.pyplot as plt"
   ]
  },
  {
   "cell_type": "code",
   "execution_count": 76,
   "metadata": {},
   "outputs": [
    {
     "data": {
      "image/png": "[encoded data removed]",
      "text/plain": [
       "<Figure size 432x288 with 1 Axes>"
      ]
     },
     "metadata": {
      "needs_background": "light"
     },
     "output_type": "display_data"
    }
   ],
   "source": [
    "acc = history_dict['accuracy']\n",
    "val_loss = history_dict['val_loss']\n",
    "loss = history_dict['loss']\n",
    "val_acc = history_dict['val_accuracy']\n",
    "\n",
    "epochs = range(1, len(acc) + 1)\n",
    "\n",
    "plt.plot(epochs, loss, 'bo', label = 'Training loss')\n",
    "plt.plot(epochs, val_loss, 'b', label = 'validataion loss')\n",
    "plt.xlabel('epochs')\n",
    "plt.ylabel('Loss')\n",
    "plt.show()"
   ]
  },
  {
   "cell_type": "code",
   "execution_count": 77,
   "metadata": {},
   "outputs": [
    {
     "data": {
      "image/png": "[encoded data removed]",
      "text/plain": [
       "<Figure size 432x288 with 1 Axes>"
      ]
     },
     "metadata": {
      "needs_background": "light"
     },
     "output_type": "display_data"
    }
   ],
   "source": [
    "plt.clf()  \n",
    "\n",
    "plt.plot(epochs, acc, 'bo', label='Training acc')\n",
    "plt.plot(epochs, val_acc, 'b', label='Validation acc')\n",
    "plt.title('Training and validation accuracy')\n",
    "plt.xlabel('Epochs')\n",
    "plt.ylabel('Accuracy')\n",
    "plt.legend()\n",
    "\n",
    "plt.show()"
   ]
  },
  {
   "cell_type": "code",
   "execution_count": null,
   "metadata": {},
   "outputs": [],
   "source": []
  },
  {
   "cell_type": "code",
   "execution_count": null,
   "metadata": {},
   "outputs": [],
   "source": []
  }
 ],
 "metadata": {
  "kernelspec": {
   "display_name": "Python 3",
   "language": "python",
   "name": "python3"
  },
  "language_info": {
   "codemirror_mode": {
    "name": "ipython",
    "version": 3
   },
   "file_extension": ".py",
   "mimetype": "text/x-python",
   "name": "python",
   "nbconvert_exporter": "python",
   "pygments_lexer": "ipython3",
   "version": "3.8.5"
  }
 },
 "nbformat": 4,
 "nbformat_minor": 4
}
